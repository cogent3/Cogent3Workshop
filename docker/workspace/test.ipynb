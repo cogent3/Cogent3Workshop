{
 "cells": [
  {
   "cell_type": "code",
   "execution_count": 1,
   "id": "3b1ee0c6-fd64-4c0d-b3c4-80bc63447bff",
   "metadata": {},
   "outputs": [
    {
     "data": {
      "text/plain": [
       "'(t00:4.798395766462413,(t08:0.1612877205306154,t09:0.1612877205306154):4.6371080459317975,(((((t02:0.5711320384512505,((t12:0.07063975695827568,t13:0.07063975695827568):0.2619475946092974,t07:0.332587351567573):0.23854468688367736):0.02416598531641363,t06:0.5952980237676642):0.027835189343102373,t03:0.6231332131107664):1.4769131943041354,(t04:0.4853723445889976,(t14:0.05720834929432247,(t15:0.043931015178418756,(t16:0.0404188342408371,t17:0.0404188342408371):0.0035121809375816544):0.01327733411590371):0.4281639952946751):1.614674062825904):1.2928751423558402,((((t18:0.03628394744212313,t19:0.03628394744212313):0.1581205694039802,(t10:0.13224946111469343,t11:0.13224946111469343):0.062155055731409885):0.4404729716155351,t01:0.6348774884616386):0.02370423277103681,t05:0.6585817212326754):2.7343398285380665):1.4054742166916712);'"
      ]
     },
     "execution_count": 1,
     "metadata": {},
     "output_type": "execute_result"
    }
   ],
   "source": [
    "import pathlib\n",
    "from cogent3 import make_tree\n",
    "\n",
    "def load_trees(path):\n",
    "    newicks = path.read_text().splitlines()\n",
    "    return [make_tree(line.strip()) for line in newicks]\n",
    "\n",
    "path = pathlib.Path(\"/workspace/20_taxa_trees.nwk\")\n",
    "trees = load_trees(path=path)\n",
    "# convert a tree to a newick\n",
    "tree = trees[0]\n",
    "newick_string = tree.get_newick(with_distances=True)\n",
    "newick_string"
   ]
  }
 ],
 "metadata": {
  "kernelspec": {
   "display_name": "Python 3 (ipykernel)",
   "language": "python",
   "name": "python3"
  },
  "language_info": {
   "codemirror_mode": {
    "name": "ipython",
    "version": 3
   },
   "file_extension": ".py",
   "mimetype": "text/x-python",
   "name": "python",
   "nbconvert_exporter": "python",
   "pygments_lexer": "ipython3",
   "version": "3.9.2"
  }
 },
 "nbformat": 4,
 "nbformat_minor": 5
}
